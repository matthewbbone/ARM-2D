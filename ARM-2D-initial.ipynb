{
 "cells": [
  {
   "cell_type": "code",
   "execution_count": 143,
   "metadata": {},
   "outputs": [],
   "source": [
    "import math\n",
    "import numpy as np"
   ]
  },
  {
   "cell_type": "code",
   "execution_count": 144,
   "metadata": {},
   "outputs": [],
   "source": [
    "class DistFunction:\n",
    "\n",
    "    def __init__(\n",
    "        self,\n",
    "        type = 'gaussian',\n",
    "        params = [.5, .25],\n",
    "    ):\n",
    "\n",
    "        if type == 'gaussian':\n",
    "            self.getvals = lambda N : np.random.normal(loc=params[0], scale=params[1], size=N)\n",
    "        elif type == 'uniform':\n",
    "            self.getvals = lambda N : np.random.uniform(low=params[0], high=params[1], size=N)\n",
    "        elif type == 'constant':\n",
    "            self.getvals = lambda N : np.array([params[0] for i in range(N)])\n",
    "\n",
    "gaussian = DistFunction(type = 'gaussian', params = [.5, .25])\n",
    "uniform = DistFunction(type = 'uniform', params = [0, 1])\n",
    "constant = DistFunction(type = 'constant', params = [.5])\n",
    "\n",
    "assert len(gaussian.getvals(2)) == 2\n",
    "assert isinstance(uniform.getvals(2), np.ndarray)\n",
    "assert constant.getvals(2)[0] == .5"
   ]
  },
  {
   "cell_type": "code",
   "execution_count": 145,
   "metadata": {},
   "outputs": [],
   "source": [
    "class Agent:\n",
    "\n",
    "    def __init__(\n",
    "        self, \n",
    "        dimensions = [.5], \n",
    "        exposure = [.1],\n",
    "        tolerance = [.25],\n",
    "        responsiveness = [.25]\n",
    "    ):\n",
    "        self.dimensions = dimensions\n",
    "        self.exposure = exposure\n",
    "        self.tolerance = tolerance\n",
    "        self.responsiveness = responsiveness"
   ]
  },
  {
   "cell_type": "code",
   "execution_count": 157,
   "metadata": {},
   "outputs": [],
   "source": [
    "class ARM:\n",
    "\n",
    "    def __init__(\n",
    "        self,\n",
    "        N = 100,\n",
    "        dimensions = [DistFunction(type = 'gaussian', params = [.5, .2])],\n",
    "        exposures = [DistFunction(type = 'constant', params = [.1])],\n",
    "        tolerances = [DistFunction(type = 'constant', params = [.25])],\n",
    "        responsiveness = [DistFunction(type = 'constant', params = [.25])],\n",
    "        steepness = [math.inf]\n",
    "    ): \n",
    "        self.N = N\n",
    "        self.steepness = steepness\n",
    "        self.agents = []\n",
    "\n",
    "        dim_dists = []\n",
    "        exp_dists = []\n",
    "        tol_dists = []\n",
    "        res_dists = []\n",
    "\n",
    "        for dim, dist in enumerate(dimensions):\n",
    "\n",
    "            dim_dists.append(dist.getvals(N))\n",
    "            exp_dists.append(exposures[dim].getvals(N))\n",
    "            tol_dists.append(tolerances[dim].getvals(N))\n",
    "            res_dists.append(responsiveness[dim].getvals(N))\n",
    "\n",
    "        for i in range(N):\n",
    "\n",
    "            agent = Agent(\n",
    "                dimensions = [dim[i] for dim in dim_dists],\n",
    "                exposure = [dim[i] for dim in exp_dists],\n",
    "                tolerance = [dim[i] for dim in tol_dists],\n",
    "                responsiveness = [dim[i] for dim in res_dists]\n",
    "            )\n",
    "\n",
    "            self.agents.append(agent)\n",
    "\n",
    "\n",
    "model = ARM(N = 5, dimensions = [DistFunction(type = 'constant', params = [.25])])  \n",
    "\n",
    "assert len(model.agents[0].dimensions) == 1\n",
    "assert model.agents[0].exposure[0] == .1\n",
    "assert isinstance(model.agents[0].tolerance, list)\n",
    "assert model.agents[0].responsiveness[0] == .25"
   ]
  }
 ],
 "metadata": {
  "kernelspec": {
   "display_name": "Python 3.10.8 64-bit",
   "language": "python",
   "name": "python3"
  },
  "language_info": {
   "codemirror_mode": {
    "name": "ipython",
    "version": 3
   },
   "file_extension": ".py",
   "mimetype": "text/x-python",
   "name": "python",
   "nbconvert_exporter": "python",
   "pygments_lexer": "ipython3",
   "version": "3.10.8"
  },
  "orig_nbformat": 4,
  "vscode": {
   "interpreter": {
    "hash": "b0fa6594d8f4cbf19f97940f81e996739fb7646882a419484c72d19e05852a7e"
   }
  }
 },
 "nbformat": 4,
 "nbformat_minor": 2
}
